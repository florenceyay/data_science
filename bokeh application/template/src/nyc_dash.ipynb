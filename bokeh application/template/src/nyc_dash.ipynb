{
 "cells": [
  {
   "cell_type": "code",
   "execution_count": 64,
   "id": "f1d7fa99",
   "metadata": {},
   "outputs": [],
   "source": [
    "import pandas as pd\n",
    "from bokeh.plotting import figure, curdoc\n",
    "from bokeh.models import ColumnDataSource, Select\n",
    "from bokeh.layouts import column\n",
    "from bokeh.io import show\n",
    "\n",
    "df = pd.read_csv('avg_data.csv')\n",
    "\n",
    "zipcodes = df.iloc[:, 0]\n",
    "zipcodes = zipcodes.tolist()\n",
    "zipcodes.remove('total')\n",
    "zipcodes = (str(x) for x in zipcodes)\n",
    "zipcodes = sorted(list(zipcodes))\n",
    "months = [\"Jan\", \"Feb\", \"Mar\", \"Apr\", \"May\", \"Jun\", \"Jul\", \"Aug\", \"Sep\"]\n",
    "\n",
    "z1 = Select(title=\"Choose Zipcode 1\", options=zipcodes, value=zipcodes[0])\n",
    "z2 = Select(title=\"Choose Zipcode 2\", options=zipcodes, value=zipcodes[1])\n",
    "curdoc().add_root(z1)\n",
    "curdoc().add_root(z2)\n",
    "\n",
    "\n",
    "\n"
   ]
  },
  {
   "cell_type": "code",
   "execution_count": 65,
   "id": "3ebdc09b",
   "metadata": {},
   "outputs": [
    {
     "data": {
      "text/plain": [
       "[42.85817687,\n",
       " 48.87067338,\n",
       " 96.13054878,\n",
       " 147.4308658,\n",
       " 186.9409362,\n",
       " 138.384647,\n",
       " 53.69651419,\n",
       " 85.28272455,\n",
       " 94.10443068]"
      ]
     },
     "execution_count": 65,
     "metadata": {},
     "output_type": "execute_result"
    }
   ],
   "source": [
    "x = list(i + 1 for i in range(9))  # 1-9\n",
    "y = df.loc[236, :].values.tolist()\n",
    "\n",
    "y.remove('total')\n",
    "\n",
    "y1 = df.loc[df['Zipcode'] == '10000'].values.flatten().tolist()\n",
    "#print(y1)\n",
    "y1.remove('10000')\n",
    "y2 = df.loc[df['Zipcode'] == '10001'].values.flatten().tolist()\n",
    "y2.remove('10001')\n",
    "\n",
    "y2"
   ]
  },
  {
   "cell_type": "code",
   "execution_count": 67,
   "id": "66598e38",
   "metadata": {},
   "outputs": [],
   "source": [
    "ds = ColumnDataSource(data={'x': months, 'y': y, 'y2': y2, 'y1': y1})\n",
    "\n",
    "all_p = figure(x_range=months, y_range=(0, 200), x_axis_label='Months', y_axis_label='Response Time in Hours')\n",
    "# x_range=months gives month x-axis tickers\n",
    "all_p.line(x='x', y='y', line_width=2, line_color='gray', legend_label='All Zipcodes', source=ds)\n",
    "all_p.line(x='x', y='y1', line_width=2, line_color='red', legend_label='Zipcode 1', source=ds)\n",
    "all_p.line(x='x', y='y2', line_width=2, line_color='blue', legend_label='Zipcode 2', source=ds)\n",
    "\n",
    "def change_zip1(attr, old, new):  # update zip1\n",
    "    zip1 = str(z1.value)\n",
    "    temp_y = df.loc[df['Zipcode'] == zip1].values.flatten().tolist()\n",
    "    temp_y.remove(zip1)\n",
    "    ds.data = {'x': months, 'y1': temp_y, 'y2': y2, 'y': y}\n",
    "\n",
    "\n",
    "def change_zip2(attr, old, new):  # update zip2\n",
    "    zip2 = str(z2.value)\n",
    "    temp_y = df.loc[df['Zipcode'] == zip2].values.flatten().tolist()\n",
    "    temp_y.remove(zip2)\n",
    "    ds.data = {'x': months, 'y': y, 'y1': y1, 'y2': temp_y}\n",
    "    \n",
    "    \n",
    "z1.on_change('value', change_zip1)\n",
    "z2.on_change('value', change_zip2)\n",
    "\n",
    "layout = column(z1, z2, all_p)\n",
    "\n",
    "curdoc().add_root(all_p)\n",
    "\n",
    "\n"
   ]
  },
  {
   "cell_type": "code",
   "execution_count": null,
   "id": "785056f5",
   "metadata": {},
   "outputs": [],
   "source": []
  },
  {
   "cell_type": "code",
   "execution_count": null,
   "id": "421136a8",
   "metadata": {},
   "outputs": [],
   "source": []
  }
 ],
 "metadata": {
  "kernelspec": {
   "display_name": "Python 3 (ipykernel)",
   "language": "python",
   "name": "python3"
  },
  "language_info": {
   "codemirror_mode": {
    "name": "ipython",
    "version": 3
   },
   "file_extension": ".py",
   "mimetype": "text/x-python",
   "name": "python",
   "nbconvert_exporter": "python",
   "pygments_lexer": "ipython3",
   "version": "3.9.5"
  }
 },
 "nbformat": 4,
 "nbformat_minor": 5
}
